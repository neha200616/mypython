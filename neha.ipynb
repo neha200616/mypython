{
  "nbformat": 4,
  "nbformat_minor": 0,
  "metadata": {
    "colab": {
      "provenance": []
    },
    "kernelspec": {
      "name": "python3",
      "display_name": "Python 3"
    },
    "language_info": {
      "name": "python"
    }
  },
  "cells": [
    {
      "cell_type": "code",
      "execution_count": null,
      "metadata": {
        "colab": {
          "base_uri": "https://localhost:8080/"
        },
        "id": "FUAujRSWNpLN",
        "outputId": "fa524676-e30a-4981-d6f6-b0be7b9ec44e"
      },
      "outputs": [
        {
          "output_type": "stream",
          "name": "stdout",
          "text": [
            "neha\n",
            "welcome to python \n"
          ]
        }
      ],
      "source": [
        "print(\"neha\")\n",
        "print(\"welcome to python \")"
      ]
    },
    {
      "cell_type": "code",
      "source": [
        "#add two numbers\n",
        "num1 = int(input(\"Enter first number:\"))\n",
        "num2 = int(input(\"enter the second number:\"))\n",
        "result = num1 + num2\n",
        "print(\"neha, 15\")\n",
        "print(\"the sum is:\",result)"
      ],
      "metadata": {
        "colab": {
          "base_uri": "https://localhost:8080/"
        },
        "id": "C22DPPPzRWml",
        "outputId": "66c833fa-3157-4db2-c97a-d66dbe119e5d"
      },
      "execution_count": null,
      "outputs": [
        {
          "output_type": "stream",
          "name": "stdout",
          "text": [
            "Enter first number:12\n",
            "enter the second number:12\n",
            "neha, 15\n",
            "the sum is: 24\n"
          ]
        }
      ]
    },
    {
      "cell_type": "code",
      "source": [
        "#multiply two numbers\n",
        "num1 = int(input(\"enter the first number:\"))\n",
        "num2 = int(input(\"enter the second number:\"))\n",
        "result = num1 * num2\n",
        "print(\"neha, 15\")\n",
        "print(\"the multilication:\",result)"
      ],
      "metadata": {
        "colab": {
          "base_uri": "https://localhost:8080/"
        },
        "id": "szrMrhXWT1Nm",
        "outputId": "ce1bc42b-c4dc-4d11-e1fa-990e7d158f90"
      },
      "execution_count": null,
      "outputs": [
        {
          "output_type": "stream",
          "name": "stdout",
          "text": [
            "enter the first number:2\n",
            "enter the second number:4\n",
            "neha, 15\n",
            "the multilication: 8\n"
          ]
        }
      ]
    },
    {
      "cell_type": "code",
      "source": [
        "#arithematic application\n",
        "a = int(input(\"enter the first number:\"))\n",
        "b = int(input(\"enter the second number:\"))\n",
        "print(\"neha, 15\")\n",
        "print(\"add\",a+b)\n",
        "print(\"subtration\",a-b)\n",
        "print(\"multiplication\",a*b)\n",
        "print(\"multi\",a**b)\n",
        "print(\"division\",a//b)\n",
        "print(\"division\",a/b)"
      ],
      "metadata": {
        "colab": {
          "base_uri": "https://localhost:8080/"
        },
        "id": "UTwpm7BUWcNz",
        "outputId": "915a3fee-5bff-4cad-c7dd-90fea88a6552"
      },
      "execution_count": null,
      "outputs": [
        {
          "output_type": "stream",
          "name": "stdout",
          "text": [
            "enter the first number:2\n",
            "enter the second number:3\n",
            "neha, 15\n",
            "add 5\n",
            "subtration -1\n",
            "multiplication 6\n",
            "multi 8\n",
            "division 0\n",
            "division 0.6666666666666666\n"
          ]
        }
      ]
    },
    {
      "cell_type": "code",
      "source": [
        "#AREA OF CIRCLE\n",
        "r = float(input(\"enter the area of circle\"))\n",
        "area = 3.14*r*r\n",
        "print(\"neha, 15\")\n",
        "print(\"area of circle\",area)"
      ],
      "metadata": {
        "colab": {
          "base_uri": "https://localhost:8080/"
        },
        "id": "p3cWbFt8aPSy",
        "outputId": "e56104c2-50b4-4465-f9f2-bfba0a35f9a1"
      },
      "execution_count": null,
      "outputs": [
        {
          "output_type": "stream",
          "name": "stdout",
          "text": [
            "enter the area of circle62\n",
            "neha, 15\n",
            "area of circle 12070.16\n"
          ]
        }
      ]
    },
    {
      "cell_type": "code",
      "source": [
        "#FAFARENATE CONVERSION\n",
        "fafrenate=float(input(\"enter the fafrenate\"))\n",
        "celsius=(5/9)*(fafrenate-32)\n",
        "print(\"neha, 15\")\n",
        "print(\"celsius=\",celsius)"
      ],
      "metadata": {
        "colab": {
          "base_uri": "https://localhost:8080/"
        },
        "id": "-8w2q1Wwbmma",
        "outputId": "b24d2fff-5b84-47d1-d123-8e81f2fe5264"
      },
      "execution_count": null,
      "outputs": [
        {
          "output_type": "stream",
          "name": "stdout",
          "text": [
            "enter the fafrenate77\n",
            "neha, 15\n",
            "celsius= 25.0\n"
          ]
        }
      ]
    },
    {
      "cell_type": "code",
      "source": [
        "#BMI CALCULATION\n",
        "h=float(input(\"enter the height\"))\n",
        "w=int(input(\"enter the weight\"))\n",
        "bmi=w/(h*h)\n",
        "print(\"neha, 15\")\n",
        "print(bmi)"
      ],
      "metadata": {
        "colab": {
          "base_uri": "https://localhost:8080/"
        },
        "id": "anAy0gFld1DW",
        "outputId": "64e0906a-feaf-4c7a-dc87-70b22bf636e2"
      },
      "execution_count": null,
      "outputs": [
        {
          "output_type": "stream",
          "name": "stdout",
          "text": [
            "enter the height1.5\n",
            "enter the weight35\n",
            "neha, 15\n",
            "15.555555555555555\n"
          ]
        }
      ]
    },
    {
      "cell_type": "code",
      "source": [
        "#area and perimeter\n",
        "l=int(input(\"enter the lengh=\"))\n",
        "b=int(input(\"enter the breadth=\"))\n",
        "print(\"neha, 15\")\n",
        "print(\"area\",l*b)\n",
        "print(\"perimeter\",2*(l+b))"
      ],
      "metadata": {
        "colab": {
          "base_uri": "https://localhost:8080/"
        },
        "id": "lNyrLZ37kuwg",
        "outputId": "c7a8a28f-7457-4d4f-f92e-a2017189d79b"
      },
      "execution_count": null,
      "outputs": [
        {
          "output_type": "stream",
          "name": "stdout",
          "text": [
            "enter the lengh=4\n",
            "enter the breadth=5\n",
            "neha, 15\n",
            "area 20\n",
            "perimeter 18\n"
          ]
        }
      ]
    },
    {
      "cell_type": "code",
      "source": [
        "#min to hour\n",
        "min=int(input(\"enter the time in min\"))\n",
        "hours = min//60\n",
        "remainderminutes=min%60\n",
        "print(\"neha, 15\")\n",
        "print(hours)\n",
        "print(remainderminutes)"
      ],
      "metadata": {
        "colab": {
          "base_uri": "https://localhost:8080/"
        },
        "id": "HxX4Y6RVm2j2",
        "outputId": "9d0098f8-4a3c-45ce-a2ed-a8fe0a8124e4"
      },
      "execution_count": null,
      "outputs": [
        {
          "output_type": "stream",
          "name": "stdout",
          "text": [
            "enter the time in min140\n",
            "neha, 15\n",
            "2\n",
            "20\n"
          ]
        }
      ]
    },
    {
      "cell_type": "code",
      "source": [
        "#CELSIUS CONVERSION\n",
        "celsius=float(input(\"enter the celsius\"))\n",
        "faranate=(celsius * 9/5)+32\n",
        "print(\"neha, 15\")\n",
        "print(\"fafrenate=\",faranate)"
      ],
      "metadata": {
        "colab": {
          "base_uri": "https://localhost:8080/"
        },
        "id": "U-UdNvthfls9",
        "outputId": "c14bcb0d-df5e-46ac-8269-aaf570835104"
      },
      "execution_count": null,
      "outputs": [
        {
          "output_type": "stream",
          "name": "stdout",
          "text": [
            "enter the celsius24\n",
            "neha, 15\n",
            "fafrenate= 75.2\n"
          ]
        }
      ]
    },
    {
      "cell_type": "code",
      "source": [
        "#simple interest\n",
        "p=int(input(\"enter the principal \"))\n",
        "r=float(input(\"enter the rate \"))\n",
        "t=int(input(\"enter the time\"))\n",
        "simpleinterest=(p*t*r)/100\n",
        "print(\" Neha, 15\")\n",
        "print(simpleinterest)"
      ],
      "metadata": {
        "colab": {
          "base_uri": "https://localhost:8080/"
        },
        "id": "5RRdAKVHisOm",
        "outputId": "f534f932-592b-4c0a-8da5-12d295375dc6"
      },
      "execution_count": null,
      "outputs": [
        {
          "output_type": "stream",
          "name": "stdout",
          "text": [
            "enter the principal 25000\n",
            "enter the rate 5\n",
            "enter the time5\n",
            " Neha, 15\n",
            "6250.0\n"
          ]
        }
      ]
    }
  ]
}