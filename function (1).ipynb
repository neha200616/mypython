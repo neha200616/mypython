{
  "nbformat": 4,
  "nbformat_minor": 0,
  "metadata": {
    "colab": {
      "provenance": []
    },
    "kernelspec": {
      "name": "python3",
      "display_name": "Python 3"
    },
    "language_info": {
      "name": "python"
    }
  },
  "cells": [
    {
      "cell_type": "code",
      "execution_count": 15,
      "metadata": {
        "colab": {
          "base_uri": "https://localhost:8080/"
        },
        "id": "QfF5JJZabCcr",
        "outputId": "1ada3b08-4c2f-46fe-b4bb-b096b7c6111a"
      },
      "outputs": [
        {
          "output_type": "stream",
          "name": "stdout",
          "text": [
            "Hello Alice, you are 30 years old.\n"
          ]
        }
      ],
      "source": [
        "#default argument\n",
        "def greet(name=\"Guest\", age=25):\n",
        "    print(f\"Hello {name}, you are {age} years old.\")\n",
        "greet(\"Alice\", 30)\n",
        "\n"
      ]
    },
    {
      "cell_type": "code",
      "source": [
        "#keyword argument\n",
        "def greet(name, age):\n",
        "    print(f\"Hello {name}, you are {age} years old.\")\n",
        "greet(age=30, name=\"Alice\")"
      ],
      "metadata": {
        "colab": {
          "base_uri": "https://localhost:8080/"
        },
        "id": "UMdVN1XzmhUS",
        "outputId": "32156a4e-a410-466d-9fec-683d7fdaa1e4"
      },
      "execution_count": 7,
      "outputs": [
        {
          "output_type": "stream",
          "name": "stdout",
          "text": [
            "Hello Alice, you are 30 years old.\n"
          ]
        }
      ]
    },
    {
      "cell_type": "code",
      "source": [
        "#variable length argument\n",
        "def sumnumber(*number):\n",
        "  return sum(number)\n",
        "print(sumnumber(1, 2, 3))\n",
        "\n"
      ],
      "metadata": {
        "colab": {
          "base_uri": "https://localhost:8080/"
        },
        "id": "HHTJA7h7n6G6",
        "outputId": "47612fa0-64c1-445f-a715-a173eb64429b"
      },
      "execution_count": 22,
      "outputs": [
        {
          "output_type": "stream",
          "name": "stdout",
          "text": [
            "6\n"
          ]
        }
      ]
    },
    {
      "cell_type": "code",
      "source": [
        "#position arugment\n",
        "def num(add,sub):\n",
        "  print(\"value=\", add,\"value=\",sub)\n",
        "num(14,15)"
      ],
      "metadata": {
        "colab": {
          "base_uri": "https://localhost:8080/"
        },
        "id": "QNNMhrqAm3Fl",
        "outputId": "8c4946c6-49e4-4430-ab4b-71435908b5cb"
      },
      "execution_count": 35,
      "outputs": [
        {
          "output_type": "stream",
          "name": "stdout",
          "text": [
            "value= 14 value= 15\n"
          ]
        }
      ]
    },
    {
      "cell_type": "code",
      "source": [
        "#return statement\n",
        "def add_numbers(a, b):\n",
        "    return a + b\n",
        "result = add_numbers(3, 4)\n",
        "print(result)"
      ],
      "metadata": {
        "colab": {
          "base_uri": "https://localhost:8080/"
        },
        "id": "l2E1s98cvxJh",
        "outputId": "ec8c828e-b84a-4b72-e30f-ecd8a8f8e530"
      },
      "execution_count": 36,
      "outputs": [
        {
          "output_type": "stream",
          "name": "stdout",
          "text": [
            "7\n"
          ]
        }
      ]
    }
  ]
}