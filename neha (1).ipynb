{
  "nbformat": 4,
  "nbformat_minor": 0,
  "metadata": {
    "colab": {
      "provenance": []
    },
    "kernelspec": {
      "name": "python3",
      "display_name": "Python 3"
    },
    "language_info": {
      "name": "python"
    }
  },
  "cells": [
    {
      "cell_type": "code",
      "execution_count": 4,
      "metadata": {
        "colab": {
          "base_uri": "https://localhost:8080/"
        },
        "id": "FUAujRSWNpLN",
        "outputId": "fa524676-e30a-4981-d6f6-b0be7b9ec44e"
      },
      "outputs": [
        {
          "output_type": "stream",
          "name": "stdout",
          "text": [
            "neha\n",
            "welcome to python \n"
          ]
        }
      ],
      "source": [
        "print(\"neha\")\n",
        "print(\"welcome to python \")"
      ]
    },
    {
      "cell_type": "code",
      "source": [
        "#add two numbers\n",
        "num1 = int(input(\"Enter first number:\"))\n",
        "num2 = int(input(\"enter the second number:\"))\n",
        "result = num1 + num2\n",
        "print(\"the sum is:\",result)"
      ],
      "metadata": {
        "colab": {
          "base_uri": "https://localhost:8080/"
        },
        "id": "C22DPPPzRWml",
        "outputId": "1c571595-b72e-4a1b-992f-8400f610b5fa"
      },
      "execution_count": 9,
      "outputs": [
        {
          "output_type": "stream",
          "name": "stdout",
          "text": [
            "Enter first number:12\n",
            "enter the second number:12\n",
            "the sum is: 24\n"
          ]
        }
      ]
    },
    {
      "cell_type": "code",
      "source": [
        "#multiply two numbers\n",
        "num1 = int(input(\"enter the first number:\"))\n",
        "num2 = int(input(\"enter the second number:\"))\n",
        "result = num1 * num2\n",
        "print(\"the multilication:\",result)\n"
      ],
      "metadata": {
        "colab": {
          "base_uri": "https://localhost:8080/"
        },
        "id": "szrMrhXWT1Nm",
        "outputId": "83285417-04bb-4585-b5d8-5872a0e7b3e6"
      },
      "execution_count": 11,
      "outputs": [
        {
          "output_type": "stream",
          "name": "stdout",
          "text": [
            "enter the first number:8\n",
            "enter the second number:9\n",
            "the multilication: 72\n"
          ]
        }
      ]
    },
    {
      "cell_type": "code",
      "source": [
        "#arithematic application\n",
        "a = int(input(\"enter the first number:\"))\n",
        "b = int(input(\"enter the second number:\"))\n",
        "print(\"add\",a+b)\n",
        "print(\"subtration\",a-b)\n",
        "print(\"multiplication\",a*b)\n",
        "print(\"multi\",a**b)\n",
        "print(\"division\",a//b)\n",
        "print(\"division\",a/b)\n"
      ],
      "metadata": {
        "colab": {
          "base_uri": "https://localhost:8080/"
        },
        "id": "UTwpm7BUWcNz",
        "outputId": "744df834-8fbe-4554-d9ca-d6688eb7c7b9"
      },
      "execution_count": 16,
      "outputs": [
        {
          "output_type": "stream",
          "name": "stdout",
          "text": [
            "enter the first number:2\n",
            "enter the second number:3\n",
            "add 5\n",
            "subtration -1\n",
            "multiplication 6\n",
            "multi 8\n",
            "division 0\n",
            "division 0.6666666666666666\n"
          ]
        }
      ]
    },
    {
      "cell_type": "code",
      "source": [
        "#AREA OF CIRCLE\n",
        "r = float(input(\"enter the area of circle\"))\n",
        "area = 3.14*r*r\n",
        "print(\"area of circle\",area)"
      ],
      "metadata": {
        "colab": {
          "base_uri": "https://localhost:8080/"
        },
        "id": "p3cWbFt8aPSy",
        "outputId": "2c9e2ed0-bd5e-40c8-c8fd-32ecdeb3ba2e"
      },
      "execution_count": 18,
      "outputs": [
        {
          "output_type": "stream",
          "name": "stdout",
          "text": [
            "enter the area of circle5\n",
            "area of circle 78.5\n"
          ]
        }
      ]
    },
    {
      "cell_type": "code",
      "source": [
        "#FAFARENATE CONVERSION\n",
        "fafrenate=float(input(\"enter the fafrenate\"))\n",
        "celsius=(5/9)*(fafrenate-32)\n",
        "print(\"celsius=\",celsius)"
      ],
      "metadata": {
        "colab": {
          "base_uri": "https://localhost:8080/"
        },
        "id": "-8w2q1Wwbmma",
        "outputId": "518f1350-e922-4438-b076-ae24af1099db"
      },
      "execution_count": 20,
      "outputs": [
        {
          "output_type": "stream",
          "name": "stdout",
          "text": [
            "enter the fafrenate24\n",
            "celsius= -4.444444444444445\n"
          ]
        }
      ]
    },
    {
      "cell_type": "code",
      "source": [
        "#BMI CALCULATION\n",
        "h=float(input(\"enter the height\"))\n",
        "w=int(input(\"enter the weight\"))\n",
        "bmi=w/(h*h)\n",
        "print(bmi)\n"
      ],
      "metadata": {
        "colab": {
          "base_uri": "https://localhost:8080/"
        },
        "id": "anAy0gFld1DW",
        "outputId": "b3baee55-047a-45d7-ed06-c72b20f2aa41"
      },
      "execution_count": 22,
      "outputs": [
        {
          "output_type": "stream",
          "name": "stdout",
          "text": [
            "enter the height1.5\n",
            "enter the weight54\n",
            "24.0\n"
          ]
        }
      ]
    },
    {
      "cell_type": "code",
      "source": [
        "#area and perimeter\n",
        "l=int(input(\"enter the lengh=\"))\n",
        "b=int(input(\"enter the breadth=\"))\n",
        "print(\"area\",l*b)\n",
        "print(\"perimeter\",2*(l+b))"
      ],
      "metadata": {
        "colab": {
          "base_uri": "https://localhost:8080/"
        },
        "id": "lNyrLZ37kuwg",
        "outputId": "31dd9005-bcf6-4689-986f-581c053cb452"
      },
      "execution_count": 31,
      "outputs": [
        {
          "output_type": "stream",
          "name": "stdout",
          "text": [
            "enter the lengh=4\n",
            "enter the breadth=5\n",
            "area 20\n",
            "perimeter 18\n"
          ]
        }
      ]
    },
    {
      "cell_type": "code",
      "source": [
        "#min to hour\n",
        "min=int(input(\"enter the time in min\"))\n",
        "hours = min//60\n",
        "remainderminutes=min%60\n",
        "print(hours)\n",
        "print(remainderminutes)"
      ],
      "metadata": {
        "colab": {
          "base_uri": "https://localhost:8080/"
        },
        "id": "HxX4Y6RVm2j2",
        "outputId": "149d61ee-87cd-4d4b-e7ae-413f01f800f5"
      },
      "execution_count": 33,
      "outputs": [
        {
          "output_type": "stream",
          "name": "stdout",
          "text": [
            "enter the time in min140\n",
            "2\n",
            "20\n"
          ]
        }
      ]
    },
    {
      "cell_type": "code",
      "source": [
        "#CELSIUS CONVERSION\n",
        "celsius=float(input(\"enter the celsius\"))\n",
        "faranate=(celsius * 9/5)+32\n",
        "print(\"fafrenate=\",faranate)\n"
      ],
      "metadata": {
        "colab": {
          "base_uri": "https://localhost:8080/"
        },
        "id": "U-UdNvthfls9",
        "outputId": "da6e0c40-a54e-4b9e-bea5-b3cf4fd058ad"
      },
      "execution_count": 23,
      "outputs": [
        {
          "output_type": "stream",
          "name": "stdout",
          "text": [
            "enter the celsius77\n",
            "fafrenate= 170.6\n"
          ]
        }
      ]
    },
    {
      "cell_type": "code",
      "source": [
        "#simple interest\n",
        "p=int(input(\"enter the principal \"))\n",
        "r=float(input(\"enter the rate \"))\n",
        "t=int(input(\"enter the time\"))\n",
        "simpleinterest=(p*t*r)/100\n",
        "print(simpleinterest)"
      ],
      "metadata": {
        "colab": {
          "base_uri": "https://localhost:8080/"
        },
        "id": "5RRdAKVHisOm",
        "outputId": "50c3ffb8-d94a-412c-decd-78c74c7610c0"
      },
      "execution_count": 26,
      "outputs": [
        {
          "output_type": "stream",
          "name": "stdout",
          "text": [
            "enter the principal 25000\n",
            "enter the rate 6\n",
            "enter the time6\n",
            "9000.0\n"
          ]
        }
      ]
    }
  ]
}