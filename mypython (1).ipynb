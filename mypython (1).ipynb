{
  "cells": [
    {
      "cell_type": "code",
      "execution_count": null,
      "metadata": {
        "colab": {
          "base_uri": "https://localhost:8080/"
        },
        "id": "jyFo2flDWURj",
        "outputId": "e99336bf-961c-4df5-e20d-7b8f90b8c937"
      },
      "outputs": [
        {
          "name": "stdout",
          "output_type": "stream",
          "text": [
            "enter the number4\n",
            "the number is even\n"
          ]
        }
      ],
      "source": [
        "#odd and even\n",
        "num=int(input(\"enter the number\"))\n",
        "if num%2==0:\n",
        " print(\"the number is even\")\n",
        "else:\n",
        " print(\"the number is odd\")"
      ]
    },
    {
      "cell_type": "code",
      "execution_count": null,
      "metadata": {
        "colab": {
          "base_uri": "https://localhost:8080/"
        },
        "id": "mZirM3sJmAd9",
        "outputId": "d5f3378e-6c58-4c05-86d2-e62c6d7c05b9"
      },
      "outputs": [
        {
          "name": "stdout",
          "output_type": "stream",
          "text": [
            "enter the start range2\n",
            "enter the end range5\n",
            "2\n",
            "5\n",
            "9\n",
            "14\n"
          ]
        }
      ],
      "source": [
        "#fibonaci series\n",
        "a=int(input(\"enter the start range\"))\n",
        "b=int(input(\"enter the end range\"))\n",
        "sum =0\n",
        "for i in range(a,b+1):\n",
        " sum=sum+i\n",
        " print(sum)"
      ]
    },
    {
      "cell_type": "code",
      "execution_count": null,
      "metadata": {
        "colab": {
          "base_uri": "https://localhost:8080/"
        },
        "id": "fjpMCHEmm47u",
        "outputId": "73fd899d-ceb3-4855-d98b-6d9f63eb8fc3"
      },
      "outputs": [
        {
          "name": "stdout",
          "output_type": "stream",
          "text": [
            "enter a starting number3\n",
            "enter the ending number5\n",
            "60\n"
          ]
        }
      ],
      "source": [
        "#factorial of a number\n",
        "a=int(input(\"enter a starting number\"))\n",
        "number=int(input(\"enter the ending number\"))\n",
        "fact=1\n",
        "for i in range (a,number+1):\n",
        "  fact=fact*i\n",
        "print(fact)"
      ]
    },
    {
      "cell_type": "code",
      "execution_count": null,
      "metadata": {
        "colab": {
          "base_uri": "https://localhost:8080/"
        },
        "id": "n5fnLEpfyLI7",
        "outputId": "b75548a5-5f9f-4e76-eed8-5b581447759d"
      },
      "outputs": [
        {
          "name": "stdout",
          "output_type": "stream",
          "text": [
            "enter the first nummber4\n",
            "enter the the second number5\n",
            "enter the operation+\n",
            "the addition of numbers 9\n"
          ]
        }
      ],
      "source": [
        "a=int(input(\"enter the first nummber\"))\n",
        "b=int(input(\"enter the the second number\"))\n",
        "operation = input(\"enter the operation\")\n",
        "if operation  == '+':\n",
        "  print(\"the addition of numbers\",a+b)\n",
        "elif operation == '-':\n",
        "  print(\"the subtraction of numers\",a-b)"
      ]
    },
    {
      "cell_type": "code",
      "execution_count": null,
      "metadata": {
        "colab": {
          "base_uri": "https://localhost:8080/"
        },
        "id": "vRfjXydg4JCC",
        "outputId": "8f96227d-45f5-496d-d936-df353230f80b"
      },
      "outputs": [
        {
          "name": "stdout",
          "output_type": "stream",
          "text": [
            "enter the year2025\n",
            "it is not a leap year\n"
          ]
        }
      ],
      "source": [
        "#leapyear\n",
        "year=int(input(\"enter the year\"))\n",
        "if (year % 4 == 0 and year % 100 != 0) or (year % 400 == 0):\n",
        "    print(\"it is a leap year\")\n",
        "else:\n",
        "     print(\"it is not a leap year\")\n"
      ]
    },
    {
      "cell_type": "code",
      "execution_count": null,
      "metadata": {
        "colab": {
          "base_uri": "https://localhost:8080/"
        },
        "id": "2bZqxLWM4Qtc",
        "outputId": "23f2efbd-83de-4495-9a2c-e9f8aa2a1d6e"
      },
      "outputs": [
        {
          "name": "stdout",
          "output_type": "stream",
          "text": [
            "enter the number6\n",
            "number is positive\n"
          ]
        }
      ],
      "source": [
        "#check the number is positive\n",
        "a=int(input(\"enter the number\"))\n",
        "if a>0 :\n",
        "  print(\"number is positive\")\n",
        "elif a<0 :\n",
        "  print(\"number is negative\")\n",
        "else:\n",
        "  print(\"number is zero\")"
      ]
    },
    {
      "cell_type": "code",
      "execution_count": null,
      "metadata": {
        "id": "vFXrtGBV7uaa"
      },
      "outputs": [],
      "source": [
        "#sum of even number\n",
        "def sum_of_even_numbers(n):\n",
        "    total = 0\n",
        "    for i in range(1, n + 1):\n",
        "        if i % 2 == 0:\n",
        "            total += i\n",
        "    return total"
      ]
    },
    {
      "cell_type": "code",
      "execution_count": null,
      "metadata": {
        "colab": {
          "base_uri": "https://localhost:8080/"
        },
        "id": "xtMR-4C69etY",
        "outputId": "015cfa54-0cfe-4aea-c0b4-12a8aa113622"
      },
      "outputs": [
        {
          "name": "stdout",
          "output_type": "stream",
          "text": [
            "enter the marks90\n",
            "Grade A\n"
          ]
        }
      ],
      "source": [
        "#grading of marks\n",
        "marks=int(input(\"enter the marks\"))\n",
        "if marks>=90:\n",
        " print(\"Grade A\")\n",
        "elif marks>=75:\n",
        "  print(\"Grade B\")\n",
        "elif marks>=50:\n",
        "   print(\"Grade c\")\n",
        "else:\n",
        "    print(\"Grade F\")"
      ]
    },
    {
      "cell_type": "code",
      "execution_count": null,
      "metadata": {
        "colab": {
          "base_uri": "https://localhost:8080/"
        },
        "id": "xFMAg0nQuDTY",
        "outputId": "06da1d7f-82ae-4ce4-9e02-a6a318c1b0b9"
      },
      "outputs": [
        {
          "name": "stdout",
          "output_type": "stream",
          "text": [
            "enter the number9\n",
            "9 * 1 = 9\n",
            "9 * 2 = 18\n",
            "9 * 3 = 27\n",
            "9 * 4 = 36\n",
            "9 * 5 = 45\n",
            "9 * 6 = 54\n",
            "9 * 7 = 63\n",
            "9 * 8 = 72\n",
            "9 * 9 = 81\n",
            "9 * 10 = 90\n"
          ]
        }
      ],
      "source": [
        "#multiplication of given numbers\n",
        "a=int(input(\"enter the number\"))\n",
        "for i in range(1,11):\n",
        "    print(a,\"*\",i,\"=\",a*i)"
      ]
    },
    {
      "cell_type": "code",
      "execution_count": null,
      "metadata": {
        "colab": {
          "base_uri": "https://localhost:8080/"
        },
        "id": "fr_B4xEO8Zda",
        "outputId": "4c7c4a27-aa8d-4c9c-8528-26def76f1f8e"
      },
      "outputs": [
        {
          "name": "stdout",
          "output_type": "stream",
          "text": [
            "enter the first number5\n",
            "enter the second number7\n",
            "enter the third number8\n",
            "the maximum is: 8\n"
          ]
        }
      ],
      "source": [
        "#largest of three number\n",
        "num1=int(input(\"enter the first number\"))\n",
        "num2=int(input(\"enter the second number\"))\n",
        "num3=int(input(\"enter the third number\"))\n",
        "if num1 >= num2 and num1 >= num3:\n",
        "      max = num1\n",
        "elif num2 >= num1 and num2 >= num3:\n",
        "        max = num2\n",
        "else:\n",
        "        max = num3\n",
        "        print(\"the maximum is:\",max)\n"
      ]
    },
    {
      "cell_type": "code",
      "execution_count": null,
      "metadata": {
        "colab": {
          "base_uri": "https://localhost:8080/"
        },
        "id": "an9sb0fJye4F",
        "outputId": "91c95e72-dc73-4df1-ecd4-578cb5e29b41"
      },
      "outputs": [
        {
          "name": "stdout",
          "output_type": "stream",
          "text": [
            "enter the number=11\n",
            "it is the palindrome\n"
          ]
        }
      ],
      "source": [
        "a = input(\"enter the number=\")\n",
        "if a == a[::-1]:\n",
        "  print(\"it is the palindrome\")\n",
        "else:\n",
        "  print(\"it is not a palindrome\")\n"
      ]
    },
    {
      "cell_type": "code",
      "execution_count": null,
      "metadata": {
        "colab": {
          "base_uri": "https://localhost:8080/"
        },
        "id": "Mg3GAjE8z0M4",
        "outputId": "8e464ae8-bc32-4881-f68b-276fcf9c139c"
      },
      "outputs": [
        {
          "name": "stdout",
          "output_type": "stream",
          "text": [
            "enter the first number:45\n",
            "reverse number: 54\n"
          ]
        }
      ],
      "source": [
        "#reverse of number\n",
        "a = int(input(\"enter the first number:\"))\n",
        "\n",
        "rev_num = int(str(a)[::-1])\n",
        "\n",
        "print(f\"reverse number: {rev_num}\")"
      ]
    },
    {
      "cell_type": "code",
      "execution_count": null,
      "metadata": {
        "colab": {
          "base_uri": "https://localhost:8080/"
        },
        "id": "7OaOSAkt2lcJ",
        "outputId": "493a3a46-5484-4c0f-c646-a29e3cbdf65d"
      },
      "outputs": [
        {
          "name": "stdout",
          "output_type": "stream",
          "text": [
            "enter the number8\n",
            "enter the number1\n",
            "sum: 9\n"
          ]
        }
      ],
      "source": [
        "#sum of digit\n",
        "a= int(input(\"enter the number\"))\n",
        "b= int(input(\"enter the number\"))\n",
        "sum=a+b\n",
        "print(\"sum:\",sum)"
      ]
    },
    {
      "cell_type": "code",
      "execution_count": null,
      "metadata": {
        "colab": {
          "base_uri": "https://localhost:8080/"
        },
        "id": "pEpC3Za65Y9k",
        "outputId": "b416f589-238b-4013-8eb1-4c630266593a"
      },
      "outputs": [
        {
          "name": "stdout",
          "output_type": "stream",
          "text": [
            "enter the number6\n",
            "it is not armstrong number\n"
          ]
        }
      ],
      "source": [
        "#armstrong number\n",
        "a= int(input(\"enter the number\"))\n",
        "sum=0\n",
        "temp = n\n",
        "\n",
        "while temp>0:\n",
        "    sum = sum+((temp%10)**3)\n",
        "    temp=temp//10\n",
        "if sum == n:\n",
        "   print(\"it is armstrong number\",sum)\n",
        "else:\n",
        "   print(\"it is not armstrong number\")\n"
      ]
    },
    {
      "cell_type": "code",
      "execution_count": null,
      "metadata": {
        "id": "TvfPdW3_9PRW"
      },
      "outputs": [],
      "source": [
        " #break statment\n",
        "n=input(\"enter the number\")\n",
        "count=0\n",
        " while count<10:\n",
        "    if count==7:\n",
        "      break\n",
        "    print(count)\n",
        "    count+=1"
      ]
    },
    {
      "cell_type": "code",
      "execution_count": null,
      "metadata": {
        "colab": {
          "background_save": true,
          "base_uri": "https://localhost:8080/"
        },
        "id": "pCwBJlSTFfIh",
        "outputId": "600b8ce3-e157-40e8-c9e5-331c287c1966"
      },
      "outputs": [
        {
          "metadata": {
            "tags": null
          },
          "name": "stdout",
          "output_type": "stream",
          "text": [
            "0\n",
            "1\n",
            "2\n",
            "3\n",
            "4\n",
            "5\n",
            "6\n"
          ]
        }
      ],
      "source": [
        " #continue statement\n",
        " n=input(\"enter the number\")\n",
        " count=0\n",
        " while count<10:\n",
        "    if count==7:\n",
        "      continue\n",
        "    print(count)\n",
        "    count+=1"
      ]
    },
    {
      "cell_type": "code",
      "execution_count": null,
      "metadata": {
        "colab": {
          "base_uri": "https://localhost:8080/"
        },
        "id": "8Rq4Jfsq_7M6",
        "outputId": "4353570a-1321-41e1-e2cd-6806248be6f4"
      },
      "outputs": [
        {
          "name": "stdout",
          "output_type": "stream",
          "text": [
            "enter a number5\n",
            "the number is prime\n"
          ]
        }
      ],
      "source": [
        "#prime number\n",
        "num=int(input(\"enter a number\"))\n",
        "if num%5==0:\n",
        "  print(\"the number is prime\")\n",
        "else:\n",
        "  print(\"the number is not prime\")"
      ]
    },
    {
      "cell_type": "code",
      "execution_count": null,
      "metadata": {
        "colab": {
          "base_uri": "https://localhost:8080/"
        },
        "id": "FbRMkhk9Gx7d",
        "outputId": "d3237815-b433-4397-be1a-190335482e14"
      },
      "outputs": [
        {
          "name": "stdout",
          "output_type": "stream",
          "text": [
            "enter the number2\n",
            "enter the number3\n",
            "sum of two squre number= 13\n"
          ]
        }
      ],
      "source": [
        "#sum of sqaure of two number\n",
        "n=int(input(\"enter the number\"))\n",
        "b=int(input(\"enter the number\"))\n",
        "sum=n*n+b*b\n",
        "print(\"sum of two squre number=\",sum)"
      ]
    }
  ],
  "metadata": {
    "colab": {
      "provenance": []
    },
    "kernelspec": {
      "display_name": "Python 3",
      "name": "python3"
    },
    "language_info": {
      "name": "python"
    }
  },
  "nbformat": 4,
  "nbformat_minor": 0
}